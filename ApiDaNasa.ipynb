{
  "nbformat": 4,
  "nbformat_minor": 0,
  "metadata": {
    "colab": {
      "provenance": [],
      "authorship_tag": "ABX9TyPOnqANpBJhJxdeuwvCYUdH",
      "include_colab_link": true
    },
    "kernelspec": {
      "name": "python3",
      "display_name": "Python 3"
    },
    "language_info": {
      "name": "python"
    }
  },
  "cells": [
    {
      "cell_type": "markdown",
      "metadata": {
        "id": "view-in-github",
        "colab_type": "text"
      },
      "source": [
        "<a href=\"https://colab.research.google.com/github/GustavoPontello/GustavoPontello/blob/main/ApiDaNasa.ipynb\" target=\"_parent\"><img src=\"https://colab.research.google.com/assets/colab-badge.svg\" alt=\"Open In Colab\"/></a>"
      ]
    },
    {
      "cell_type": "code",
      "source": [
        "import requests"
      ],
      "metadata": {
        "id": "hxcPz3FhHPHI"
      },
      "execution_count": null,
      "outputs": []
    },
    {
      "cell_type": "code",
      "source": [
        "v1 = str(input(\"\"))\n",
        "v2 = str(input(\"\"))\n",
        "resposta = requests.get(\"https://api.nasa.gov/mars-photos/api/v1/rovers/{}/photos?sol=1000&camera={}fhaz&api_key=kyge3dbWD7fRdUxaaofsuS8ltmf8xHCfKF0veq24\".format(v1, v2))\n",
        "print(resposta)\n",
        "resposta.json()"
      ],
      "metadata": {
        "id": "wY0mVf0iHwnn",
        "colab": {
          "base_uri": "https://localhost:8080/"
        },
        "outputId": "b6b2a3fa-4bbd-497f-fb44-6ca5fafe62bf"
      },
      "execution_count": null,
      "outputs": [
        {
          "output_type": "stream",
          "name": "stdout",
          "text": [
            "curiosity\n",
            "\n",
            "<Response [200]>\n"
          ]
        },
        {
          "output_type": "execute_result",
          "data": {
            "text/plain": [
              "{'photos': [{'id': 102693,\n",
              "   'sol': 1000,\n",
              "   'camera': {'id': 20,\n",
              "    'name': 'FHAZ',\n",
              "    'rover_id': 5,\n",
              "    'full_name': 'Front Hazard Avoidance Camera'},\n",
              "   'img_src': 'http://mars.jpl.nasa.gov/msl-raw-images/proj/msl/redops/ods/surface/sol/01000/opgs/edr/fcam/FLB_486265257EDR_F0481570FHAZ00323M_.JPG',\n",
              "   'earth_date': '2015-05-30',\n",
              "   'rover': {'id': 5,\n",
              "    'name': 'Curiosity',\n",
              "    'landing_date': '2012-08-06',\n",
              "    'launch_date': '2011-11-26',\n",
              "    'status': 'active',\n",
              "    'max_sol': 4102,\n",
              "    'max_date': '2024-02-19',\n",
              "    'total_photos': 695670,\n",
              "    'cameras': [{'name': 'FHAZ', 'full_name': 'Front Hazard Avoidance Camera'},\n",
              "     {'name': 'NAVCAM', 'full_name': 'Navigation Camera'},\n",
              "     {'name': 'MAST', 'full_name': 'Mast Camera'},\n",
              "     {'name': 'CHEMCAM', 'full_name': 'Chemistry and Camera Complex'},\n",
              "     {'name': 'MAHLI', 'full_name': 'Mars Hand Lens Imager'},\n",
              "     {'name': 'MARDI', 'full_name': 'Mars Descent Imager'},\n",
              "     {'name': 'RHAZ', 'full_name': 'Rear Hazard Avoidance Camera'}]}},\n",
              "  {'id': 102694,\n",
              "   'sol': 1000,\n",
              "   'camera': {'id': 20,\n",
              "    'name': 'FHAZ',\n",
              "    'rover_id': 5,\n",
              "    'full_name': 'Front Hazard Avoidance Camera'},\n",
              "   'img_src': 'http://mars.jpl.nasa.gov/msl-raw-images/proj/msl/redops/ods/surface/sol/01000/opgs/edr/fcam/FRB_486265257EDR_F0481570FHAZ00323M_.JPG',\n",
              "   'earth_date': '2015-05-30',\n",
              "   'rover': {'id': 5,\n",
              "    'name': 'Curiosity',\n",
              "    'landing_date': '2012-08-06',\n",
              "    'launch_date': '2011-11-26',\n",
              "    'status': 'active',\n",
              "    'max_sol': 4102,\n",
              "    'max_date': '2024-02-19',\n",
              "    'total_photos': 695670,\n",
              "    'cameras': [{'name': 'FHAZ', 'full_name': 'Front Hazard Avoidance Camera'},\n",
              "     {'name': 'NAVCAM', 'full_name': 'Navigation Camera'},\n",
              "     {'name': 'MAST', 'full_name': 'Mast Camera'},\n",
              "     {'name': 'CHEMCAM', 'full_name': 'Chemistry and Camera Complex'},\n",
              "     {'name': 'MAHLI', 'full_name': 'Mars Hand Lens Imager'},\n",
              "     {'name': 'MARDI', 'full_name': 'Mars Descent Imager'},\n",
              "     {'name': 'RHAZ', 'full_name': 'Rear Hazard Avoidance Camera'}]}}]}"
            ]
          },
          "metadata": {},
          "execution_count": 7
        }
      ]
    }
  ]
}