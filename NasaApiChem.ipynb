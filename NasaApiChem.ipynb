{
  "nbformat": 4,
  "nbformat_minor": 0,
  "metadata": {
    "colab": {
      "provenance": [],
      "authorship_tag": "ABX9TyNtH+3PPy+tniTFwjuyz86/",
      "include_colab_link": true
    },
    "kernelspec": {
      "name": "python3",
      "display_name": "Python 3"
    },
    "language_info": {
      "name": "python"
    }
  },
  "cells": [
    {
      "cell_type": "markdown",
      "metadata": {
        "id": "view-in-github",
        "colab_type": "text"
      },
      "source": [
        "<a href=\"https://colab.research.google.com/github/GustavoPontello/GustavoPontello/blob/main/NasaApiChem.ipynb\" target=\"_parent\"><img src=\"https://colab.research.google.com/assets/colab-badge.svg\" alt=\"Open In Colab\"/></a>"
      ]
    },
    {
      "cell_type": "code",
      "source": [
        "import requests"
      ],
      "metadata": {
        "id": "hxcPz3FhHPHI"
      },
      "execution_count": null,
      "outputs": []
    },
    {
      "cell_type": "code",
      "source": [
        "v1 = str(input(\"Qual robo quer ver? \"))\n",
        "v2 = str(input(\"Qual camera quer ver? \"))\n",
        "\n",
        "resposta = requests.get(\"https://api.nasa.gov/mars-photos/api/v1/rovers/{}/photos?sol=1000&camera={}&api_key=kyge3dbWD7fRdUxaaofsuS8ltmf8xHCfKF0veq24\".format(v1, v2))\n",
        "\n",
        "if resposta.status_code == 200:\n",
        "    dados = resposta.json()\n",
        "    fotos = dados['photos']\n",
        "    for foto in fotos:\n",
        "        print(\"Os links das imagens são:\", foto['img_src'])\n",
        "else:\n",
        "    print(\"Erro ao fazer a solicitação.\")"
      ],
      "metadata": {
        "colab": {
          "base_uri": "https://localhost:8080/"
        },
        "id": "OqpkALD87pmk",
        "outputId": "e922f937-b417-4176-a44c-29848c6c4293"
      },
      "execution_count": 20,
      "outputs": [
        {
          "output_type": "stream",
          "name": "stdout",
          "text": [
            "Qual robo quer ver? curiosity\n",
            "Qual camera quer ver? chemcam\n",
            "Os links das imagens são: http://mars.jpl.nasa.gov/msl-raw-images/proj/msl/redops/ods/surface/sol/01000/opgs/edr/ccam/CR0_486264264EDR_F0481570CCAM02000M_.JPG\n",
            "Os links das imagens são: http://mars.jpl.nasa.gov/msl-raw-images/proj/msl/redops/ods/surface/sol/01000/opgs/edr/ccam/CR0_486263086EDR_F0481570CCAM02000M_.JPG\n",
            "Os links das imagens são: http://mars.jpl.nasa.gov/msl-raw-images/proj/msl/redops/ods/surface/sol/01000/soas/rdr/ccam/CR0_486264264PRC_F0481570CCAM02000L1.PNG\n",
            "Os links das imagens são: http://mars.jpl.nasa.gov/msl-raw-images/proj/msl/redops/ods/surface/sol/01000/soas/rdr/ccam/CR0_486263086PRC_F0481570CCAM02000L1.PNG\n"
          ]
        }
      ]
    }
  ]
}